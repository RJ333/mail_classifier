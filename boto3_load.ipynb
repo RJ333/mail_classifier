{
 "cells": [
  {
   "cell_type": "code",
   "execution_count": 29,
   "id": "4a37de16-d56a-4e37-8404-b04fca139569",
   "metadata": {},
   "outputs": [],
   "source": [
    "import email\n",
    "import boto3\n",
    "import json\n",
    "# maybe pynamodb?\n",
    "from pathlib import Path"
   ]
  },
  {
   "cell_type": "code",
   "execution_count": 13,
   "id": "119f1a0f-f2f2-4224-b30b-1d986bce74f3",
   "metadata": {},
   "outputs": [
    {
     "name": "stdout",
     "output_type": "stream",
     "text": [
      "[('1693230892.M909969P24382Q15Rd92b253b3507a6ec.ENG-RJANSSEN-LT', <email.message.Message object at 0x7f17214a5340>), ('1693230881.M562431P24282Q3Rf99d4a372aa69efc.ENG-RJANSSEN-LT', <email.message.Message object at 0x7f172137ebb0>)]\n"
     ]
    }
   ],
   "source": [
    "mail_folder = \"/home/rjanssen/Mail/new\"\n",
    "file_names = [\n",
    "    \"1693230892.M909969P24382Q15Rd92b253b3507a6ec.ENG-RJANSSEN-LT\",\n",
    "    \"1693230881.M562431P24282Q3Rf99d4a372aa69efc.ENG-RJANSSEN-LT\"\n",
    "]\n",
    "mails = []\n",
    "for mail in file_names:\n",
    "    with open(Path(mail_folder, mail)) as m:\n",
    "        mails.append((mail, email.message_from_file(m)))\n",
    "print(mails)"
   ]
  },
  {
   "cell_type": "code",
   "execution_count": 20,
   "id": "6bf45924-56ca-4c70-9b2b-cf8eaa97fbcf",
   "metadata": {},
   "outputs": [
    {
     "name": "stdout",
     "output_type": "stream",
     "text": [
      "[('1693230892', <email.message.Message object at 0x7f17214a5340>), ('1693230881', <email.message.Message object at 0x7f172137ebb0>)]\n"
     ]
    }
   ],
   "source": [
    "newmails = []\n",
    "for mail in mails:\n",
    "    timestamp = mail[0].split(\".\")[0]\n",
    "    newmails.append((timestamp, mail[1]))\n",
    "print(newmails)"
   ]
  },
  {
   "cell_type": "code",
   "execution_count": 17,
   "id": "d8d0c500-7d32-4560-8826-0087c06e0607",
   "metadata": {},
   "outputs": [
    {
     "data": {
      "text/plain": [
       "'1693230892'"
      ]
     },
     "execution_count": 17,
     "metadata": {},
     "output_type": "execute_result"
    }
   ],
   "source": []
  },
  {
   "cell_type": "code",
   "execution_count": 28,
   "id": "81e16190-ff31-40b8-ab7e-7aad5f601c2f",
   "metadata": {},
   "outputs": [
    {
     "name": "stdout",
     "output_type": "stream",
     "text": [
      "dict_keys(['mail_id', 'mail_count', 'content'])\n",
      "dict_keys(['mail_id', 'mail_count', 'content'])\n"
     ]
    }
   ],
   "source": [
    "def mail_to_dict(mail, count):\n",
    "    #print(mail[0], mail[1])\n",
    "    return {\n",
    "        \"mail_id\": mail[0],\n",
    "         \"mail_count\": count,\n",
    "         \"content\": {\n",
    "             \"headers\": mail[1]._headers,\n",
    "             \"payloads\": mail[1].get_payload(),\n",
    "         }\n",
    "    }\n",
    "dicts = [mail_to_dict(tupll, c) for c, tupll in enumerate(newmails)]\n",
    "# for c, tupll in enumerate(newmails):\n",
    "#     mail_to_dict(tupll, c)\n",
    "for dic in dicts:\n",
    "    print(dic.keys())"
   ]
  },
  {
   "cell_type": "code",
   "execution_count": null,
   "id": "0c61d17a-fe8c-4a86-b956-6d7fbf8d4f0c",
   "metadata": {},
   "outputs": [],
   "source": [
    "# Create the DynamoDB table.\n",
    "table = dynamodb.create_table(\n",
    "    TableName='emails',\n",
    "    KeySchema=[\n",
    "        {\n",
    "            'AttributeName': 'timestamp',\n",
    "            'KeyType': 'HASH' # partition key\n",
    "        },\n",
    "        {\n",
    "            'AttributeName': 'mail_count',\n",
    "            'KeyType': 'RANGE' # sort key\n",
    "        }\n",
    "    ],\n",
    "    AttributeDefinitions=[\n",
    "        {\n",
    "            'AttributeName': 'timestamp',\n",
    "            'AttributeType': 'S' # string\n",
    "        },\n",
    "        {\n",
    "            'AttributeName': 'mail_count',\n",
    "            'AttributeType': 'N'\n",
    "        },\n",
    "    ],\n",
    "    ProvisionedThroughput={\n",
    "        'ReadCapacityUnits': 5, # ReadCapacityUnits set to 5 strongly consistent reads per second\n",
    "        'WriteCapacityUnits': 5 # WriteCapacityUnits set to 5 writes per second\n",
    "    }\n",
    ")\n",
    "\n",
    "# Wait until the table exists.\n",
    "table.wait_until_exists()\n",
    "print(\"Status:\", table.table_status)\n",
    "# Print out some data about the table.\n",
    "print(table.item_count)"
   ]
  },
  {
   "cell_type": "code",
   "execution_count": 34,
   "id": "44297cf7-d7b1-40c8-b431-af30ed5b5711",
   "metadata": {},
   "outputs": [
    {
     "ename": "TypeError",
     "evalue": "'module' object is not callable",
     "output_type": "error",
     "traceback": [
      "\u001b[0;31m---------------------------------------------------------------------------\u001b[0m",
      "\u001b[0;31mTypeError\u001b[0m                                 Traceback (most recent call last)",
      "Cell \u001b[0;32mIn[34], line 1\u001b[0m\n\u001b[0;32m----> 1\u001b[0m \u001b[43mjson\u001b[49m\u001b[43m(\u001b[49m\u001b[43mdicts\u001b[49m\u001b[43m[\u001b[49m\u001b[38;5;241;43m0\u001b[39;49m\u001b[43m]\u001b[49m\u001b[43m)\u001b[49m\n",
      "\u001b[0;31mTypeError\u001b[0m: 'module' object is not callable"
     ]
    }
   ],
   "source": [
    "json(dicts[0])"
   ]
  },
  {
   "cell_type": "code",
   "execution_count": 36,
   "id": "40a0c926-a208-4c19-a7fd-d0f8adfa33d0",
   "metadata": {},
   "outputs": [
    {
     "ename": "TypeError",
     "evalue": "dump() missing 1 required positional argument: 'fp'",
     "output_type": "error",
     "traceback": [
      "\u001b[0;31m---------------------------------------------------------------------------\u001b[0m",
      "\u001b[0;31mTypeError\u001b[0m                                 Traceback (most recent call last)",
      "Cell \u001b[0;32mIn[36], line 1\u001b[0m\n\u001b[0;32m----> 1\u001b[0m \u001b[43mjson\u001b[49m\u001b[38;5;241;43m.\u001b[39;49m\u001b[43mdump\u001b[49m\u001b[43m(\u001b[49m\u001b[43mdicts\u001b[49m\u001b[43m[\u001b[49m\u001b[38;5;241;43m0\u001b[39;49m\u001b[43m]\u001b[49m\u001b[43m)\u001b[49m\n",
      "\u001b[0;31mTypeError\u001b[0m: dump() missing 1 required positional argument: 'fp'"
     ]
    }
   ],
   "source": []
  },
  {
   "cell_type": "code",
   "execution_count": null,
   "id": "82e8a3d6-ce5e-4682-b785-9cfa71660f71",
   "metadata": {},
   "outputs": [],
   "source": []
  }
 ],
 "metadata": {
  "kernelspec": {
   "display_name": "email_extract",
   "language": "python",
   "name": "email_extract"
  },
  "language_info": {
   "codemirror_mode": {
    "name": "ipython",
    "version": 3
   },
   "file_extension": ".py",
   "mimetype": "text/x-python",
   "name": "python",
   "nbconvert_exporter": "python",
   "pygments_lexer": "ipython3",
   "version": "3.8.10"
  }
 },
 "nbformat": 4,
 "nbformat_minor": 5
}
