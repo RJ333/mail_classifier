{
 "cells": [
  {
   "cell_type": "code",
   "execution_count": 1,
   "id": "07ff8df5-811c-4109-b9b9-1d2ec7cfa335",
   "metadata": {},
   "outputs": [],
   "source": [
    "import email\n",
    "from pathlib import Path\n",
    "mail_folder = \"/home/rjanssen/Mail/new\"\n",
    "mail = \"1693230892.M909969P24382Q15Rd92b253b3507a6ec.ENG-RJANSSEN-LT\"\n",
    "with open(Path(mail_folder, mail)) as mail:\n",
    "    msg = email.message_from_file(mail)"
   ]
  },
  {
   "cell_type": "code",
   "execution_count": 2,
   "id": "07edd54b-61f5-4a5e-8ad8-e9daa4b1ac4a",
   "metadata": {},
   "outputs": [
    {
     "data": {
      "text/plain": [
       "<email.message.Message at 0x7fd0ac38e700>"
      ]
     },
     "execution_count": 2,
     "metadata": {},
     "output_type": "execute_result"
    }
   ],
   "source": [
    "msg"
   ]
  },
  {
   "cell_type": "code",
   "execution_count": 6,
   "id": "88f118e8-263c-459b-a869-45794d4ff985",
   "metadata": {},
   "outputs": [
    {
     "data": {
      "text/plain": [
       "dict_keys(['policy', '_headers', '_unixfrom', '_payload', '_charset', 'preamble', 'epilogue', 'defects', '_default_type'])"
      ]
     },
     "execution_count": 6,
     "metadata": {},
     "output_type": "execute_result"
    }
   ],
   "source": [
    "msg.__dict__.keys()"
   ]
  },
  {
   "cell_type": "code",
   "execution_count": 13,
   "id": "a1e5a706-d2b9-42dd-9c12-9a89c567a4e6",
   "metadata": {},
   "outputs": [
    {
     "data": {
      "text/plain": [
       "True"
      ]
     },
     "execution_count": 13,
     "metadata": {},
     "output_type": "execute_result"
    }
   ],
   "source": [
    "msg.is_multipart()"
   ]
  },
  {
   "cell_type": "code",
   "execution_count": 14,
   "id": "ca2dfffb-2fb1-438b-b5b7-567942c3f76a",
   "metadata": {},
   "outputs": [
    {
     "name": "stdout",
     "output_type": "stream",
     "text": [
      "Message-ID: \n",
      " <0102018a2c2b83c2-91b2c959-2261-49f9-b9a2-a1b6ecfadea0-000000@eu-west-1.amazonses.com>\n"
     ]
    }
   ],
   "source": [
    "if 'message-id' in msg:\n",
    "   print('Message-ID:', msg['message-id'])"
   ]
  },
  {
   "cell_type": "code",
   "execution_count": 17,
   "id": "942e4500-feae-4044-89ed-e8cc53090061",
   "metadata": {},
   "outputs": [
    {
     "data": {
      "text/plain": [
       "'from outlook.office365.com (52.96.66.226:995) by\\n  ENG-RJANSSEN-LT.eu.ad.cuda-inc.com with POP3-SSL getmail6 msgid:41; 28 Aug\\n  2023 13:54:52 -0000'"
      ]
     },
     "execution_count": 17,
     "metadata": {},
     "output_type": "execute_result"
    }
   ],
   "source": [
    "msg[\"Received\"]"
   ]
  },
  {
   "cell_type": "code",
   "execution_count": 18,
   "id": "97718683-26a5-454b-a763-d44a50f4f037",
   "metadata": {},
   "outputs": [
    {
     "data": {
      "text/plain": [
       "['Return-Path',\n",
       " 'Delivered-To',\n",
       " 'Received',\n",
       " 'Received',\n",
       " 'Received',\n",
       " 'Received',\n",
       " 'Authentication-Results',\n",
       " 'Received-SPF',\n",
       " 'Received',\n",
       " 'X-IncomingTopHeaderMarker',\n",
       " 'DKIM-Signature',\n",
       " 'DKIM-Signature',\n",
       " 'Date',\n",
       " 'From',\n",
       " 'Reply-To',\n",
       " 'Message-ID',\n",
       " 'X-Mailer',\n",
       " 'Content-Type',\n",
       " 'Content-Transfer-Encoding',\n",
       " 'To',\n",
       " 'Subject',\n",
       " 'Feedback-ID',\n",
       " 'X-SES-Outgoing',\n",
       " 'X-IncomingHeaderCount',\n",
       " 'X-MS-Exchange-Organization-ExpirationStartTime',\n",
       " 'X-MS-Exchange-Organization-ExpirationStartTimeReason',\n",
       " 'X-MS-Exchange-Organization-ExpirationInterval',\n",
       " 'X-MS-Exchange-Organization-ExpirationIntervalReason',\n",
       " 'X-MS-Exchange-Organization-Network-Message-Id',\n",
       " 'X-EOPAttributedMessage',\n",
       " 'X-EOPTenantAttributedMessage',\n",
       " 'X-MS-Exchange-Organization-MessageDirectionality',\n",
       " 'X-MS-PublicTrafficType',\n",
       " 'X-MS-TrafficTypeDiagnostic',\n",
       " 'X-MS-Exchange-Organization-AuthSource',\n",
       " 'X-MS-Exchange-Organization-AuthAs',\n",
       " 'X-MS-UserLastLogonTime',\n",
       " 'X-MS-Office365-Filtering-Correlation-Id',\n",
       " 'X-MS-Exchange-EOPDirect',\n",
       " 'X-Sender-IP',\n",
       " 'X-SID-PRA',\n",
       " 'X-SID-Result',\n",
       " 'X-MS-Exchange-Organization-PCL',\n",
       " 'X-MS-Exchange-Organization-SCL',\n",
       " 'X-Microsoft-Antispam',\n",
       " 'X-MS-Exchange-CrossTenant-OriginalArrivalTime',\n",
       " 'X-MS-Exchange-CrossTenant-Network-Message-Id',\n",
       " 'X-MS-Exchange-CrossTenant-Id',\n",
       " 'X-MS-Exchange-CrossTenant-AuthSource',\n",
       " 'X-MS-Exchange-CrossTenant-AuthAs',\n",
       " 'X-MS-Exchange-CrossTenant-FromEntityHeader',\n",
       " 'X-MS-Exchange-CrossTenant-RMS-PersistedConsumerOrg',\n",
       " 'X-MS-Exchange-Transport-CrossTenantHeadersStamped',\n",
       " 'X-MS-Exchange-Transport-EndToEndLatency',\n",
       " 'X-MS-Exchange-Processed-By-BccFoldering',\n",
       " 'X-Microsoft-Antispam-Mailbox-Delivery',\n",
       " 'X-Message-Info',\n",
       " 'X-Message-Delivery',\n",
       " 'X-Microsoft-Antispam-Message-Info',\n",
       " 'MIME-Version']"
      ]
     },
     "execution_count": 18,
     "metadata": {},
     "output_type": "execute_result"
    }
   ],
   "source": [
    "msg.keys()"
   ]
  },
  {
   "cell_type": "code",
   "execution_count": 16,
   "id": "a2d12e75-1a7b-4776-a4c9-012d4a9c1ba7",
   "metadata": {},
   "outputs": [
    {
     "data": {
      "text/plain": [
       "[('Return-Path',\n",
       "  '<\\n  0102018a2c2b83c2-91b2c959-2261-49f9-b9a2-a1b6ecfadea0-000000@eu-west-1.amazonses.com>'),\n",
       " ('Delivered-To', 'unknown'),\n",
       " ('Received',\n",
       "  'from outlook.office365.com (52.96.66.226:995) by\\n  ENG-RJANSSEN-LT.eu.ad.cuda-inc.com with POP3-SSL getmail6 msgid:41; 28 Aug\\n  2023 13:54:52 -0000'),\n",
       " ('Received',\n",
       "  'from AM0PR01MB6290.eurprd01.prod.exchangelabs.com\\n (2603:10a6:20b:160::20) by VI1PR01MB4158.eurprd01.prod.exchangelabs.com with\\n HTTPS; Fri, 25 Aug 2023 10:09:27 +0000'),\n",
       " ('Received',\n",
       "  'from DM6PR06CA0061.namprd06.prod.outlook.com (2603:10b6:5:54::38) by\\n AM0PR01MB6290.eurprd01.prod.exchangelabs.com (2603:10a6:20b:160::20) with\\n Microsoft SMTP Server (version=TLS1_2,\\n cipher=TLS_ECDHE_RSA_WITH_AES_256_GCM_SHA384) id 15.20.6723.18; Fri, 25 Aug\\n 2023 10:09:26 +0000'),\n",
       " ('Received',\n",
       "  'from CY4PEPF0000E9CF.namprd03.prod.outlook.com\\n (2603:10b6:5:54:cafe::69) by DM6PR06CA0061.outlook.office365.com\\n (2603:10b6:5:54::38) with Microsoft SMTP Server (version=TLS1_2,\\n cipher=TLS_ECDHE_RSA_WITH_AES_256_GCM_SHA384) id 15.20.6699.30 via Frontend\\n Transport; Fri, 25 Aug 2023 10:09:25 +0000'),\n",
       " ('Authentication-Results',\n",
       "  'spf=pass (sender IP is 54.240.7.13)\\n smtp.mailfrom=eu-west-1.amazonses.com; dkim=pass (signature was verified)\\n header.d=musictick.com;dmarc=pass action=none\\n header.from=musictick.com;compauth=pass reason=100'),\n",
       " ('Received-SPF',\n",
       "  'Pass (protection.outlook.com: domain of eu-west-1.amazonses.com\\n designates 54.240.7.13 as permitted sender) receiver=protection.outlook.com;\\n client-ip=54.240.7.13; helo=a7-13.smtp-out.eu-west-1.amazonses.com; pr=C'),\n",
       " ('Received',\n",
       "  'from a7-13.smtp-out.eu-west-1.amazonses.com (54.240.7.13) by\\n CY4PEPF0000E9CF.mail.protection.outlook.com (10.167.241.142) with Microsoft\\n SMTP Server (version=TLS1_2, cipher=TLS_ECDHE_RSA_WITH_AES_256_GCM_SHA384) id\\n 15.20.6699.15 via Frontend Transport; Fri, 25 Aug 2023 10:09:25 +0000'),\n",
       " ('X-IncomingTopHeaderMarker',\n",
       "  '\\n OriginalChecksum:AA3BF61E27DDD7140354BD629C0C4E41B2FF402B53AC4EAAF58692A06C903DD2;UpperCasedChecksum:42A263CCEFEDF9F81F21B0B677B6C3BA8EC4C85D1DCFA1613EF492E673C39FC8;SizeAsReceived:1700;Count:14'),\n",
       " ('DKIM-Signature',\n",
       "  'v=1; a=rsa-sha256; q=dns/txt; c=relaxed/simple;\\n\\ts=zsoven5zs7ou62hatlclpaafym2l5qfw; d=musictick.com; t=1692958164;\\n\\th=Date:From:Reply-To:Message-ID:MIME-Version:Content-Type:Content-Transfer-Encoding:To:Subject;\\n\\tbh=hN2rr60pNvGir6c3rF/DiqByiVq0zGpQj3cZ8ab9GA0=;\\n\\tb=f2ughCRn7tnG+5ar62wnumLvwjC8kX99gXtNwIIoqTOrahckZBsFI4K61kiAayvS\\n\\tJrt4PH5p0gXUyXtlIbzmrNiHfniJ+OCtlWKAcNsKs1X5YRpX/PNKk78u2SWjhU4Pwop\\n\\tR7QvVOObQ0xFgQ07caIoO5bfPkEIIrCr/hhhneIw='),\n",
       " ('DKIM-Signature',\n",
       "  'v=1; a=rsa-sha256; q=dns/txt; c=relaxed/simple;\\n\\ts=shh3fegwg5fppqsuzphvschd53n6ihuv; d=amazonses.com; t=1692958164;\\n\\th=Date:From:Reply-To:Message-ID:MIME-Version:Content-Type:Content-Transfer-Encoding:To:Subject:Feedback-ID;\\n\\tbh=hN2rr60pNvGir6c3rF/DiqByiVq0zGpQj3cZ8ab9GA0=;\\n\\tb=vYEs4CMG7ydrLBlbVR7r1hFSaVT0wdllk+/TAdk6V7AOgoeKCJfe0YlvBwJxef3b\\n\\tEjtimACJu9W2GYl63UUGliAWDHMD9ipdV1DG50F20EXYKdQNr8qGAV2gkgZNw7nxDKp\\n\\tTKZEd/SCNdirBccnDAwlX1GCB0UHZZTYRgQQrXY8='),\n",
       " ('Date', 'Fri, 25 Aug 2023 10:09:24 +0000'),\n",
       " ('From', 'Musictick <info@musictick.com>'),\n",
       " ('Reply-To', 'Musictick <info@musictick.com>'),\n",
       " ('Message-ID',\n",
       "  '\\n <0102018a2c2b83c2-91b2c959-2261-49f9-b9a2-a1b6ecfadea0-000000@eu-west-1.amazonses.com>'),\n",
       " ('X-Mailer', 'PHPMailer 6.8.0 (https://github.com/PHPMailer/PHPMailer)'),\n",
       " ('Content-Type',\n",
       "  'multipart/alternative;\\n boundary=\"b1=_dTOu4EFGZxO5Y1YSY58vDKfGDoepcfdrb8LoDXng\"'),\n",
       " ('Content-Transfer-Encoding', '8bit'),\n",
       " ('To', 'Juhu <asdfasfesfsafsafsda-54321-sdkjdfdfdfdffh3@outlook.com>'),\n",
       " ('Subject',\n",
       "  '=?us-ascii?Q?Confirm_your_subscription_to_the_Newsletter_/_C?=\\n =?us-ascii?Q?onferma_la_tua_iscrizione_alla_Newsletter?='),\n",
       " ('Feedback-ID',\n",
       "  '\\n 1.eu-west-1.LdvQQ/SXvFNpQzMIshztEcK8mUylIfS4gB0VTxT49io=:AmazonSES'),\n",
       " ('X-SES-Outgoing', '2023.08.25-54.240.7.13'),\n",
       " ('X-IncomingHeaderCount', '14'),\n",
       " ('X-MS-Exchange-Organization-ExpirationStartTime',\n",
       "  '25 Aug 2023 10:09:25.5736\\n (UTC)'),\n",
       " ('X-MS-Exchange-Organization-ExpirationStartTimeReason', 'OriginalSubmit'),\n",
       " ('X-MS-Exchange-Organization-ExpirationInterval', '1:00:00:00.0000000'),\n",
       " ('X-MS-Exchange-Organization-ExpirationIntervalReason', 'OriginalSubmit'),\n",
       " ('X-MS-Exchange-Organization-Network-Message-Id',\n",
       "  '\\n 7048a44e-1c39-483b-c1d7-08dba5535c7e'),\n",
       " ('X-EOPAttributedMessage', '0'),\n",
       " ('X-EOPTenantAttributedMessage', '84df9e7f-e9f6-40af-b435-aaaaaaaaaaaa:0'),\n",
       " ('X-MS-Exchange-Organization-MessageDirectionality', 'Incoming'),\n",
       " ('X-MS-PublicTrafficType', 'Email'),\n",
       " ('X-MS-TrafficTypeDiagnostic',\n",
       "  '\\n CY4PEPF0000E9CF:EE_|AM0PR01MB6290:EE_|VI1PR01MB4158:EE_'),\n",
       " ('X-MS-Exchange-Organization-AuthSource',\n",
       "  '\\n CY4PEPF0000E9CF.namprd03.prod.outlook.com'),\n",
       " ('X-MS-Exchange-Organization-AuthAs', 'Anonymous'),\n",
       " ('X-MS-UserLastLogonTime', '8/25/2023 10:01:27 AM'),\n",
       " ('X-MS-Office365-Filtering-Correlation-Id',\n",
       "  '7048a44e-1c39-483b-c1d7-08dba5535c7e'),\n",
       " ('X-MS-Exchange-EOPDirect', 'true'),\n",
       " ('X-Sender-IP', '54.240.7.13'),\n",
       " ('X-SID-PRA', 'INFO@MUSICTICK.COM'),\n",
       " ('X-SID-Result', 'PASS'),\n",
       " ('X-MS-Exchange-Organization-PCL', '2'),\n",
       " ('X-MS-Exchange-Organization-SCL', '1'),\n",
       " ('X-Microsoft-Antispam', 'BCL:0;'),\n",
       " ('X-MS-Exchange-CrossTenant-OriginalArrivalTime',\n",
       "  '25 Aug 2023 10:09:25.1674\\n (UTC)'),\n",
       " ('X-MS-Exchange-CrossTenant-Network-Message-Id',\n",
       "  '\\n 7048a44e-1c39-483b-c1d7-08dba5535c7e'),\n",
       " ('X-MS-Exchange-CrossTenant-Id', '84df9e7f-e9f6-40af-b435-aaaaaaaaaaaa'),\n",
       " ('X-MS-Exchange-CrossTenant-AuthSource',\n",
       "  '\\n CY4PEPF0000E9CF.namprd03.prod.outlook.com'),\n",
       " ('X-MS-Exchange-CrossTenant-AuthAs', 'Anonymous'),\n",
       " ('X-MS-Exchange-CrossTenant-FromEntityHeader', 'Internet'),\n",
       " ('X-MS-Exchange-CrossTenant-RMS-PersistedConsumerOrg',\n",
       "  '\\n 00000000-0000-0000-0000-000000000000'),\n",
       " ('X-MS-Exchange-Transport-CrossTenantHeadersStamped', 'AM0PR01MB6290'),\n",
       " ('X-MS-Exchange-Transport-EndToEndLatency', '00:00:02.7402589'),\n",
       " ('X-MS-Exchange-Processed-By-BccFoldering', '15.20.6723.017'),\n",
       " ('X-Microsoft-Antispam-Mailbox-Delivery',\n",
       "  '\\n\\tabwl:0;wl:0;pcwl:0;kl:0;dwl:0;dkl:0;rwl:0;ucf:0;jmr:0;ex:0;auth:1;dest:I;ENG:(5062000305)(920221119095)(90000117)(920221120095)(90005022)(91005020)(90014020)(91030020)(91040095)(9050020)(9100341)(944500132)(2008001134)(4810010)(4910033)(8820095)(9575002)(10195002)(9320005)(120001);'),\n",
       " ('X-Message-Info',\n",
       "  '\\n\\tqZelhIiYnPk3vbhn0iLBANgEpNWLMmXN9hV339+d+Zsks4n/g1YuSCe4S9VePu/h69hnUnAVNVA1hpuh8Mu4M8KaQdZItVAh6LDqc7hZRpIe4ytxOS603i1bf4Qku2+D/Vbep3oz1/n/WZuvIMty9dDR5I9CSxKz58yCBT+Er5kcqgnTaOhmVzPCZp5W0qqOgADtrmzU8U2v9z/dQoxCLQ=='),\n",
       " ('X-Message-Delivery', 'Vj0xLjE7dXM9MDtsPTA7YT0wO0Q9MTtHRD0yO1NDTD0z'),\n",
       " ('X-Microsoft-Antispam-Message-Info',\n",
       "  '\\n\\t=?us-ascii?Q?9Zyxt/Ih9+cTTeGskSINPSE0pzvjUKBVDjT2x6Ze2IH7D+VLk1/R1Z4n5r9F?=\\n =?us-ascii?Q?RNaO5inirNMcP/YhoN9DtnTWdaHqZoNkoHVQOPLEbL/23VmiHAOY4FJdijPq?=\\n =?us-ascii?Q?Q0Rz0CzkPUjLZHsk9Fdt0qa2xk5Hq14qQYOtB3IImEDjlJ/bfPYNIqSEtXF4?=\\n =?us-ascii?Q?B8HFPOISDBREpd6EbljNlVC0cJR4PPN2BZtEslHab1B/A2PTtqQBKG9HmPBD?=\\n =?us-ascii?Q?u7YA4iCyVFfyw/QGvBGr56d0VOJVHeEYmr/6g3P92r/FNE2o9brSldWu2jtF?=\\n =?us-ascii?Q?+XEdFPtWPhAmCd4hjDZjqDnlXcU6KgNQQCpyhd1TE6oNSyiMp7bNW6Zam85J?=\\n =?us-ascii?Q?N0pQAMaPLFGpuwHSHTYXGAgtx/GP/f2StCSIa5RA0I8YOFrRWVXyvjKnp4+x?=\\n =?us-ascii?Q?eZUF4P10j6WmfeZQ1OUXmaa7IGmcayNILgT4OPYH0ccLt4pX90hjOkjsfSLJ?=\\n =?us-ascii?Q?odVvALeQEjxqWgemPMENGMxo5mGIPR+Y8kHmMM/Ng3CVlnQ49ivHWFLbJAR0?=\\n =?us-ascii?Q?+Wa1O8rnagXc3i0GOexlhnT0nT9exUKTaZgfuddDqEeounTDk42VyjPcbhYR?=\\n =?us-ascii?Q?HWbjNrz3wvRWjTy+GsT1mgXQO8srE48QPr6Z+VJs28t1hlIfxRMfiU05aTZo?=\\n =?us-ascii?Q?6bHwLM0VRIpEC7jOzj+Tveh+itmBvv+p5XDKWWi+HT0j8SfOudqtX4eOwd2E?=\\n =?us-ascii?Q?qLSJtXljnF45FDftAIgjI2ik5UpOS9QkOYFUQLSn/iWI7KQqR0TCI2dvDb8x?=\\n =?us-ascii?Q?QOBg0Q4xXg2XCDyHz4IOOp9pX0gu3iIvgxta9VoChBddvafGp9iWs4Qiha3+?=\\n =?us-ascii?Q?fsUr9drcyDCbpucM+Krpgh6HCTz9X8uNWrWHrhDznYNH8Bff0ZuazRrMZmhj?=\\n =?us-ascii?Q?yeE+kSVM5MlqzVZPL2rbCdK1nJSuNxpU8l52Gs6C4bYykO0mvoYEBJvy2PT1?=\\n =?us-ascii?Q?OCw6sZGRlU+nqhX9+SPrcqgXZDClTLanuZyxqhIMlmrRqyJXzIzy6WlYEzi+?=\\n =?us-ascii?Q?Y4LYd3dZkZq0taCljIPt16woeaoQGhUCIzil0Z5DonvchM9813Cc8LQ+moqX?=\\n =?us-ascii?Q?KvGb/FIwZgGJsEfDl5ZAb8AQS6K+d6rZaBDp9iIstMfFD6m0ymqFn2giBteT?=\\n =?us-ascii?Q?fDzCZSJXncXRL29GvKHKJ908dszOyiU+izRQRQqgq0UloRc2nFTpwP6NKczw?=\\n =?us-ascii?Q?9gmuC6vN7BANSYLs45+UwSH2VAt8lS87Ug3ihEbiR1xDkxlxlIIyIzcccQ1r?=\\n =?us-ascii?Q?f48Y41znzP5OqEV85qqL3wsSuixh8Hcyc5axMgWwjsFuBovrXdU9piiWdd4P?=\\n =?us-ascii?Q?wrZg97AHhkSv9PEydX8gRjPcizt2jJTZyOsSgFgdVQ0Tw/LKBOZvBeK3vXw6?=\\n =?us-ascii?Q?UK9ywIWNYBt6FRmR4K+0c8JL3Rfxf/Gzu3Rc8mXMB03gjRCMdsIH18GC+OPK?=\\n =?us-ascii?Q?1WSS3/IevdFcxIJF6IjJXoAPKI5Swvt7+TCocjdC21zE4CZQSE0KJg=3D=3D?='),\n",
       " ('MIME-Version', '1.0')]"
      ]
     },
     "execution_count": 16,
     "metadata": {},
     "output_type": "execute_result"
    }
   ],
   "source": [
    "msg.items()"
   ]
  },
  {
   "cell_type": "code",
   "execution_count": null,
   "id": "4e174a9f-8ac8-468b-8957-fd45389366c9",
   "metadata": {},
   "outputs": [],
   "source": []
  }
 ],
 "metadata": {
  "kernelspec": {
   "display_name": "Python 3 (ipykernel)",
   "language": "python",
   "name": "python3"
  },
  "language_info": {
   "codemirror_mode": {
    "name": "ipython",
    "version": 3
   },
   "file_extension": ".py",
   "mimetype": "text/x-python",
   "name": "python",
   "nbconvert_exporter": "python",
   "pygments_lexer": "ipython3",
   "version": "3.8.10"
  }
 },
 "nbformat": 4,
 "nbformat_minor": 5
}
